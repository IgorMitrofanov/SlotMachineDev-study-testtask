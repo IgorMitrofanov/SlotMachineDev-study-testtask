{
 "cells": [
  {
   "cell_type": "markdown",
   "id": "22ce172c",
   "metadata": {},
   "source": [
    "# Разработка простой слот-машины"
   ]
  },
  {
   "cell_type": "markdown",
   "id": "269520c8",
   "metadata": {},
   "source": [
    "## Описание задания"
   ]
  },
  {
   "cell_type": "markdown",
   "id": "4174bdad",
   "metadata": {},
   "source": [
    "Вам нужно будет произвести расчеты для простой слот машины, и указать параметры, которые вы задали при проведении расчетов, и к каким показателям пришли.\n",
    "\n",
    "Ваш слот работает по правилам реальных физических слотов: каждый барабан представляет собой ленту, заполненную символами. Каждый спин ленты независимо и равновероятно останавливаются в одном из своих положений. Длина одной ленты должна быть до 200 символов.\n"
   ]
  },
  {
   "cell_type": "markdown",
   "id": "9018945f",
   "metadata": {},
   "source": [
    "Параметры вашей слот машины:\n",
    "- 8 обычных символов.\n",
    "- Wild символ.\n",
    "- Символ Free Spins.\n",
    "- Сетка 3х3 (у слота 3 барабана, активная область барабана - 3 символа).\n",
    "- 5 линий (можете взять произвольное расположение линий).\n",
    "- Комбинации выплачиваются за 3 последовательных элемента на линии.\n",
    "- При выпадении 3 символов фри спинов в любом месте вне зависимости от линий запустится фриспиновая игра с 10  бесплатными спинами. Во время бесплатных спинов, нельзя выиграть дополнительные бесплатные спины - используются другие ленты.\n",
    "- Payout: 90 - 95%\n",
    "- Ставка на игру 5 (по 1 фишке на каждую линию).\n",
    "- Wild выплачивается, а также может участвовать в комбинации, заменяя собой обычные символы, но не символы Free Spins.\n"
   ]
  },
  {
   "cell_type": "markdown",
   "id": "2010ee37",
   "metadata": {},
   "source": [
    "В качестве ответа на это задание предоставьте:\n",
    "- Использованные линии.\n",
    "- Ленты (барабаны) слота.\n",
    "- Таблицу выплат\n",
    "- Payout каждой комбинации (обычные символы и Wild) для обычной игры.\n",
    "- Payout бесплатных спинов.\n",
    "- Частоту срабатывания в обычной игре фриспинов.\n"
   ]
  },
  {
   "cell_type": "markdown",
   "id": "22a35219",
   "metadata": {},
   "source": [
    "Расчеты произведите при помощи симуляции. Вы также можете произвести проверочные расчеты аналитически. Это приветствуется и оценивается дополнительно, но не обязательно. Предоставьте код вашей симуляции и excel/google документ с параметрами для проверки."
   ]
  },
  {
   "cell_type": "markdown",
   "id": "e699e888",
   "metadata": {},
   "source": [
    "## План работы"
   ]
  },
  {
   "cell_type": "markdown",
   "id": "e530e01d",
   "metadata": {},
   "source": [
    "1. Разработаем модель слота с визуальной составляющей и виртуальным балансом игрока;\n",
    "\n",
    "2. Подберем входные параметры слот-машины для того, чтобы добиться необходимого **payout**: \n",
    "- ленты слота;\n",
    "- таблица выплат.\n",
    "3. Дадим ответы на поставленные вопросы."
   ]
  },
  {
   "cell_type": "markdown",
   "id": "e5ed58b9",
   "metadata": {},
   "source": [
    "## Разработка модели"
   ]
  },
  {
   "cell_type": "markdown",
   "id": "c44edce7",
   "metadata": {},
   "source": [
    "Установим библиотеку `emoji` - будем использовать эмодзи в качестве символов на лентах:"
   ]
  },
  {
   "cell_type": "code",
   "execution_count": 1,
   "id": "b345b242",
   "metadata": {},
   "outputs": [
    {
     "name": "stdout",
     "output_type": "stream",
     "text": [
      "Requirement already satisfied: emoji in f:\\anaconda3\\lib\\site-packages (1.7.0)\n",
      "Requirement already satisfied: tqdm in f:\\anaconda3\\lib\\site-packages (4.62.3)\n",
      "Requirement already satisfied: colorama in f:\\anaconda3\\lib\\site-packages (from tqdm) (0.4.4)\n"
     ]
    }
   ],
   "source": [
    "!pip install emoji\n",
    "!pip install tqdm"
   ]
  },
  {
   "cell_type": "markdown",
   "id": "4a932b62",
   "metadata": {},
   "source": [
    "Установим библиотеки:"
   ]
  },
  {
   "cell_type": "code",
   "execution_count": 2,
   "id": "96d69117",
   "metadata": {},
   "outputs": [],
   "source": [
    "import numpy as np\n",
    "import random\n",
    "import emoji\n",
    "import pandas as pd\n",
    "from IPython.display import Image\n",
    "from tqdm import tqdm"
   ]
  },
  {
   "cell_type": "markdown",
   "id": "9643734b",
   "metadata": {},
   "source": [
    "Создадим виртуальный кошелек как класс, для удобства взаимодействия с ним:"
   ]
  },
  {
   "cell_type": "code",
   "execution_count": 3,
   "id": "abc0082c",
   "metadata": {},
   "outputs": [],
   "source": [
    "class Purse():\n",
    "    def __init__(self, balance):\n",
    "        self.balance = balance\n",
    "\n",
    "    def get_balance(self):\n",
    "        return self.balance\n",
    "\n",
    "    def debit(self, debited_money):\n",
    "        self.balance -= debited_money \n",
    "    \n",
    "    def credit(self, credited_money):\n",
    "        self.balance += credited_money  "
   ]
  },
  {
   "cell_type": "markdown",
   "id": "724ed082",
   "metadata": {},
   "source": [
    "Выберем эмодзи для обозначения символов на ленте:"
   ]
  },
  {
   "cell_type": "code",
   "execution_count": 4,
   "id": "22f85ea7",
   "metadata": {},
   "outputs": [
    {
     "name": "stdout",
     "output_type": "stream",
     "text": [
      "⭐ 🍒 🍇 🍌 🍏 🍆 🍍 🍉 🍓 🎫\n"
     ]
    }
   ],
   "source": [
    "print(emoji.emojize(':star:'),\n",
    "emoji.emojize(':cherries:'),\n",
    "emoji.emojize(':grapes:'),\n",
    "emoji.emojize(':banana:'),\n",
    "emoji.emojize(':green_apple:'),\n",
    "emoji.emojize(':eggplant:'),\n",
    "emoji.emojize(':pineapple:'),\n",
    "emoji.emojize(':watermelon:'),\n",
    "emoji.emojize(':strawberry:'),\n",
    "emoji.emojize(':ticket:'))"
   ]
  },
  {
   "cell_type": "markdown",
   "id": "9ff7424c",
   "metadata": {},
   "source": [
    "Каждому символу будет соответствовать число от 0 до 9 включительно, где:\n",
    "\n",
    "- 0, символ ⭐ соответствует **Wild**;\n",
    "\n",
    "- 1, символ 🍒 ;\n",
    "\n",
    "- 2, символ 🍇;\n",
    "\n",
    "- 3, символ 🍌;\n",
    "\n",
    "- 4, символ 🍏;\n",
    "\n",
    "- 5, символ 🍆;\n",
    "\n",
    "- 6, символ 🍍;\n",
    "\n",
    "- 7, символ 🍉;\n",
    "\n",
    "- 8, символ 🍓;\n",
    "\n",
    "- 9, символ 🎫 соответствует **Free Spins**."
   ]
  },
  {
   "cell_type": "markdown",
   "id": "2f3684e4",
   "metadata": {},
   "source": [
    "Зададим словарь с символами на лентах и соответствующее им число:"
   ]
  },
  {
   "cell_type": "code",
   "execution_count": 5,
   "id": "a2fd0fe9",
   "metadata": {},
   "outputs": [],
   "source": [
    "meaning_dict = {0 : emoji.emojize(':star:'), \n",
    "                1 : emoji.emojize(':cherries:'), \n",
    "                2 : emoji.emojize(':grapes:'), \n",
    "                3 : emoji.emojize(':banana:'), \n",
    "                4 : emoji.emojize(':green_apple:'), \n",
    "                5 : emoji.emojize(':eggplant:'), \n",
    "                6 : emoji.emojize(':pineapple:'), \n",
    "                7 : emoji.emojize(':watermelon:'), \n",
    "                8 : emoji.emojize(':strawberry:'), \n",
    "                9 : emoji.emojize(':ticket:')} "
   ]
  },
  {
   "cell_type": "markdown",
   "id": "d44ccc2a",
   "metadata": {},
   "source": [
    "Зададим начальную таблицу выплат произвольным образом в качестве словаря:"
   ]
  },
  {
   "cell_type": "code",
   "execution_count": 6,
   "id": "dc145035",
   "metadata": {},
   "outputs": [],
   "source": [
    "pay_dict = {0 : 100,\n",
    "            1 : 10, \n",
    "            2 : 15, \n",
    "            3 : 20, \n",
    "            4 : 25, \n",
    "            5 : 30, \n",
    "            6 : 35,\n",
    "            7 : 40,\n",
    "            8 : 45} "
   ]
  },
  {
   "cell_type": "markdown",
   "id": "03c76ac0",
   "metadata": {},
   "source": [
    "Функция подсчета выиграша с линии:"
   ]
  },
  {
   "cell_type": "code",
   "execution_count": 7,
   "id": "c55c78c1",
   "metadata": {},
   "outputs": [],
   "source": [
    "def pay_line(i, symbols, wager=1, display=False):\n",
    "    message = ''\n",
    "    line_win = 0\n",
    "    symbol = symbols[0]\n",
    "    # если комбинация простых символов выиграла с символов wild, то нужно считать выигрыш по простым символам\n",
    "    if symbol == 0:\n",
    "        symbol = symbols[1]\n",
    "        if symbol == 0:\n",
    "            symbol = symbols[2]\n",
    "    # за метч символов фриспинов выплаты нет\n",
    "    if symbol == 9:\n",
    "        line_win = 0\n",
    "        \n",
    "    else:\n",
    "        line_win = pay_dict[symbol] * wager\n",
    "    # вывод на экран\n",
    "        if display == True:\n",
    "            message += 'Line '  + str(i) + ' wins ' + str(line_win) + ' credits with ' + meaning_dict[symbol] + \" symbol!\"\n",
    "            print(message)\n",
    "        \n",
    "    return line_win, symbol"
   ]
  },
  {
   "cell_type": "markdown",
   "id": "ea43bda8",
   "metadata": {},
   "source": [
    "Функция вращения лент:"
   ]
  },
  {
   "cell_type": "code",
   "execution_count": 8,
   "id": "26163a01",
   "metadata": {},
   "outputs": [],
   "source": [
    "def spin(reels):\n",
    "    spin_values = [[0,0,0],[0,0,0],[0,0,0]]\n",
    "    for i, object in enumerate(reels):\n",
    "        length = len(reels[i])\n",
    "        stop_value = random.randint(0, length-1)\n",
    "        spin_values[1][i] = reels[i][stop_value]\n",
    "        if stop_value == 0:\n",
    "            spin_values[0][i] = reels[i][-1]\n",
    "        else:\n",
    "            spin_values[0][i] = reels[i][stop_value - 1]\n",
    "        if stop_value == len(reels[i])-1:\n",
    "            spin_values[2][i] = reels[i][0]\n",
    "        else:\n",
    "            spin_values[2][i] = reels[i][stop_value +1]\n",
    "    return spin_values"
   ]
  },
  {
   "cell_type": "markdown",
   "id": "59c90d02",
   "metadata": {},
   "source": [
    "Функция определения выиграшной линии:"
   ]
  },
  {
   "cell_type": "code",
   "execution_count": 9,
   "id": "c4b595f5",
   "metadata": {},
   "outputs": [],
   "source": [
    "def match(spin_values, purse, wager=1, free_spins=False, display=False):\n",
    "    \n",
    "    line_1_win = 0\n",
    "    symbol_l1 = 0\n",
    "    line_2_win = 0\n",
    "    symbol_l2 = 0\n",
    "    line_3_win = 0\n",
    "    symbol_l3 = 0\n",
    "    line_4_win = 0\n",
    "    symbol_l4 = 0\n",
    "    line_5_win = 0\n",
    "    symbol_l5 = 0\n",
    "    total_win = 0\n",
    "    \n",
    "    if free_spins == True:\n",
    "        purse.debit(0)\n",
    "        if display == True:\n",
    "            print('free spin game')\n",
    "    else:\n",
    "        purse.debit(5 * wager)\n",
    "        if display == True:\n",
    "            print('Game started')\n",
    "            print('Your bet on each line: ', wager)\n",
    "            print('Total bet', 5 * wager)\n",
    "            \n",
    "    if display == True:     \n",
    "        print()\n",
    "        print(meaning_dict[spin_values[0][0]], meaning_dict[spin_values[0][1]], meaning_dict[spin_values[0][2]])\n",
    "        print(meaning_dict[spin_values[1][0]], meaning_dict[spin_values[1][1]], meaning_dict[spin_values[1][2]])\n",
    "        print(meaning_dict[spin_values[2][0]], meaning_dict[spin_values[2][1]], meaning_dict[spin_values[2][2]])\n",
    "        print()\n",
    "    \n",
    "    # здесь и далее условия задаются в таком порядке:\n",
    "    # условие равенства символов, причем равенство символов free spins здесь не учитвается \n",
    "    # если первый и второй символ wild\n",
    "    # если второй и третий символ wild\n",
    "    # если первый и третий символ wild\n",
    "    # если первый и второй равны, а третий wild\n",
    "    # если первый и третий равны, а второй wild\n",
    "    # если второй и третий равны, а первый wild\n",
    "    \n",
    "    # Первая линия с координатами (0,0) (0,1) (0,2) \n",
    "    if (spin_values[0][0] == spin_values[0][1]  == spin_values[0][2] != 9) or \\\n",
    "       (spin_values[0][0] == spin_values[0][1] == 0 or \\\n",
    "        spin_values[0][1] == spin_values[0][2] == 0 or \\\n",
    "        spin_values[0][0] == spin_values[0][2] == 0 or \\\n",
    "       (spin_values[0][0] == spin_values[0][1]) and spin_values[0][2] == 0 or \\\n",
    "       (spin_values[0][0] == spin_values[0][2]) and spin_values[0][1] == 0 or \\\n",
    "       (spin_values[0][1] == spin_values[0][2]) and spin_values[0][0] == 0): \n",
    "            line_1_win, symbol_l1  = pay_line(1, \n",
    "                                              [spin_values[0][0], spin_values[0][1], spin_values[0][2]], \n",
    "                                              wager, \n",
    "                                              display=display)\n",
    "    # Вторая линия с координатами (1,0) (1,1) (1,2)\n",
    "    if (spin_values[1][0] == spin_values[1][1]  == spin_values[1][2] != 9) or \\\n",
    "       (spin_values[1][0] == spin_values[1][1] == 0 or \\\n",
    "        spin_values[1][1] == spin_values[1][2] == 0 or \\\n",
    "        spin_values[1][0] == spin_values[1][2] == 0 or \\\n",
    "       (spin_values[1][0] == spin_values[1][1]) and spin_values[1][2] == 0 or \\\n",
    "       (spin_values[1][0] == spin_values[1][2]) and spin_values[1][1] == 0 or \\\n",
    "       (spin_values[1][1] == spin_values[1][2]) and spin_values[1][0] == 0):   \n",
    "            line_2_win, symbol_l2 = pay_line(2, \n",
    "                                             [spin_values[1][0], spin_values[1][1], spin_values[1][2]],\n",
    "                                             wager,\n",
    "                                             display=display)\n",
    "    # Третья линия с координатами (2,0) (2,1) (2,2)\n",
    "    if (spin_values[2][0] == spin_values[2][1]  == spin_values[2][2] != 9) or \\\n",
    "       (spin_values[2][0] == spin_values[2][1] == 0 or \\\n",
    "        spin_values[2][1] == spin_values[2][2] == 0 or \\\n",
    "        spin_values[2][0] == spin_values[2][2] == 0 or \\\n",
    "       (spin_values[2][0] == spin_values[2][1]) and spin_values[2][2] == 0 or \\\n",
    "       (spin_values[2][0] == spin_values[2][2]) and spin_values[2][1] == 0 or \\\n",
    "       (spin_values[2][1] == spin_values[2][2]) and spin_values[2][0] == 0):  \n",
    "            line_3_win, symbol_l3 = pay_line(3,\n",
    "                                            [spin_values[2][0], spin_values[2][1], spin_values[2][2]],\n",
    "                                            wager, \n",
    "                                            display=display)\n",
    "    # Четвертая линия с координатами (2,0) (1,1) (0,2)\n",
    "    if (spin_values[2][0] == spin_values[1][1]  == spin_values[0][2] != 9) or \\\n",
    "       (spin_values[2][0] == spin_values[1][1] == 0 or \\\n",
    "        spin_values[1][1] == spin_values[0][2] == 0 or \\\n",
    "        spin_values[2][0] == spin_values[2][2] == 0 or \\\n",
    "       (spin_values[2][0] == spin_values[1][1]) and spin_values[0][2] == 0 or \\\n",
    "       (spin_values[2][0] == spin_values[0][2]) and spin_values[1][1] == 0 or \\\n",
    "       (spin_values[1][1] == spin_values[0][2]) and spin_values[2][0] == 0):  \n",
    "            line_4_win, symbol_l4 = pay_line(4, \n",
    "                                            [spin_values[2][0], spin_values[1][1], spin_values[0][2]],\n",
    "                                            wager, \n",
    "                                            display=display)\n",
    "    # Пятая линия с координатами (0,0) (1,1) (2,2)\n",
    "    if (spin_values[0][0] == spin_values[1][1]  == spin_values[2][2] != 9) or \\\n",
    "       (spin_values[0][0] == spin_values[1][1] == 0 or \\\n",
    "        spin_values[1][1] == spin_values[2][2] == 0 or \\\n",
    "        spin_values[0][0] == spin_values[2][2] == 0 or \\\n",
    "       (spin_values[0][0] == spin_values[1][1]) and spin_values[2][2] == 0 or \\\n",
    "       (spin_values[0][0] == spin_values[2][2]) and spin_values[1][1] == 0 or \\\n",
    "       (spin_values[1][1] == spin_values[2][2]) and spin_values[0][0] == 0): \n",
    "            line_5_win, symbol_l5 = pay_line(5, \n",
    "                                            [spin_values[0][0], spin_values[1][1], spin_values[2][2]],\n",
    "                                            wager, \n",
    "                                            display=display)\n",
    "        \n",
    "    total_win = line_1_win + line_2_win + line_3_win + line_4_win + line_5_win\n",
    "    \n",
    "    if display == True: \n",
    "        print()\n",
    "        print('total win: ', total_win, 'credits')\n",
    "    \n",
    "    purse.credit(total_win)\n",
    "    \n",
    "    if display == True: \n",
    "        print('balance: ', purse.get_balance())\n",
    "        print()\n",
    "        \n",
    "    return spin_values, wager, total_win, line_1_win, symbol_l1, line_2_win, symbol_l2, line_3_win, symbol_l3, \\\n",
    "           line_4_win, symbol_l4, line_5_win, symbol_l5"
   ]
  },
  {
   "cell_type": "markdown",
   "id": "a7c6663d",
   "metadata": {},
   "source": [
    "*Примечание.* Визуальное расположение линий выиграша представлены на рисунке:"
   ]
  },
  {
   "cell_type": "code",
   "execution_count": 10,
   "id": "14b53673",
   "metadata": {},
   "outputs": [
    {
     "data": {
      "text/html": [
       "<img src=\"https://4.downloader.disk.yandex.ru/preview/917810f273f00756f8cac5914a1fc15035eea21c03d5b09c2c6260a98627ce03/inf/MTLRFjM_NIdWUghYFnM1MulxXC0D_n1ycSuRuQfAlWxXr-1OwDpb9KkRoqy3j6vODednV_UmC_r8tIn2m__ngg%3D%3D?uid=952075579&filename=lines.jpg&disposition=inline&hash=&limit=0&content_type=image%2Fjpeg&owner_uid=952075579&tknv=v2&size=3378x1340\"/>"
      ],
      "text/plain": [
       "<IPython.core.display.Image object>"
      ]
     },
     "execution_count": 10,
     "metadata": {},
     "output_type": "execute_result"
    }
   ],
   "source": [
    "Image(url= 'https://4.downloader.disk.yandex.ru/preview/917810f273f00756f8cac5914a1fc15035eea21c03d5b09c2c6260a98627ce03/inf/MTLRFjM_NIdWUghYFnM1MulxXC0D_n1ycSuRuQfAlWxXr-1OwDpb9KkRoqy3j6vODednV_UmC_r8tIn2m__ngg%3D%3D?uid=952075579&filename=lines.jpg&disposition=inline&hash=&limit=0&content_type=image%2Fjpeg&owner_uid=952075579&tknv=v2&size=3378x1340')"
   ]
  },
  {
   "cell_type": "markdown",
   "id": "f4a9a4fd",
   "metadata": {},
   "source": [
    "Функция фри-спиновой игры:"
   ]
  },
  {
   "cell_type": "code",
   "execution_count": 11,
   "id": "36718eaf",
   "metadata": {},
   "outputs": [],
   "source": [
    "def free_spins_game(spin_values, display, purse):\n",
    "    fs_total_win = 0\n",
    "    fs_count = 1\n",
    "    for _ in range(10):\n",
    "        spin_values, wager, total_win, line_1_win, symbol_l1, line_2_win, symbol_l2, line_3_win, symbol_l3, \\\n",
    "        line_4_win, symbol_l4, line_5_win, symbol_l5 = match(spin(reels_fs), free_spins=True, display=display, purse=purse)\n",
    "        fs_total_win += total_win\n",
    "    return fs_total_win, fs_count"
   ]
  },
  {
   "cell_type": "markdown",
   "id": "1bd33c0b",
   "metadata": {},
   "source": [
    "Соединим все блоки воедино и создадим функцию старта игры:"
   ]
  },
  {
   "cell_type": "code",
   "execution_count": 12,
   "id": "28186a3e",
   "metadata": {},
   "outputs": [],
   "source": [
    "def start_game(display, reels, reels_fs, purse, wager=1):\n",
    "    fs_total_win = 0\n",
    "    fs_count = 0\n",
    "    \n",
    "    # старт игры и подсчет выигрыша\n",
    "    spin_values, wager, total_win, line_1_win, symbol_l1, line_2_win, symbol_l2, line_3_win, symbol_l3, \\\n",
    "        line_4_win, symbol_l4, line_5_win, symbol_l5 = match(spin(reels), display=display, wager=wager, purse=purse)\n",
    "    \n",
    "    # проверка на срабатывания фри-спиновой игры       \n",
    "    if ((spin_values[0][0] == 9) or (spin_values[1][0] == 9) or (spin_values[2][0] == 9)) and  \\\n",
    "       ((spin_values[0][1] == 9) or (spin_values[1][1] == 9) or (spin_values[2][1] == 9)) and  \\\n",
    "       ((spin_values[0][2] == 9) or (spin_values[1][2] == 9) or (spin_values[2][2] == 9)):\n",
    "        fs_total_win, fs_count = free_spins_game(spin_values, display=display, purse=purse)\n",
    "        \n",
    "    total_win_final = total_win + fs_total_win\n",
    "    \n",
    "    \n",
    "    return total_win_final, wager, fs_total_win, fs_count, line_1_win, symbol_l1, line_2_win, symbol_l2, \\\n",
    "           line_3_win, symbol_l3, line_4_win, symbol_l4, line_5_win, symbol_l5"
   ]
  },
  {
   "cell_type": "markdown",
   "id": "fb18771d",
   "metadata": {},
   "source": [
    "Зададим простые ленты для теста игры (добавим больше символов, которые соотвествуют фри-спинам для проверки работы фриспиновых игр):"
   ]
  },
  {
   "cell_type": "code",
   "execution_count": 13,
   "id": "a35ff77f",
   "metadata": {},
   "outputs": [],
   "source": [
    "reels = [[0,1,2,9,4,5,9,7,9,2], [0,1,2,9,3,5,6,7,8,9], [0,0,2,3,9,5,6,7,8,2]]"
   ]
  },
  {
   "cell_type": "code",
   "execution_count": 14,
   "id": "0add2b03",
   "metadata": {},
   "outputs": [],
   "source": [
    "reels_fs = [[0,1,2,3,4,5,6,7,8], [0,1,2,3,4,5,6,7,8], [0,1,2,3,4,5,6,7,8]]"
   ]
  },
  {
   "cell_type": "markdown",
   "id": "ec42f940",
   "metadata": {},
   "source": [
    "Инициализация кошелька:"
   ]
  },
  {
   "cell_type": "code",
   "execution_count": 15,
   "id": "09eb3ccf",
   "metadata": {},
   "outputs": [],
   "source": [
    "purse = Purse(balance=100)"
   ]
  },
  {
   "cell_type": "markdown",
   "id": "3d2d6dfc",
   "metadata": {},
   "source": [
    "Старт игры:"
   ]
  },
  {
   "cell_type": "code",
   "execution_count": 16,
   "id": "463e8a9e",
   "metadata": {
    "scrolled": false
   },
   "outputs": [
    {
     "name": "stdout",
     "output_type": "stream",
     "text": [
      "Game started\n",
      "Your bet on each line:  1\n",
      "Total bet 5\n",
      "\n",
      "🍆 🎫 ⭐\n",
      "🎫 ⭐ ⭐\n",
      "🍉 🍒 🍇\n",
      "\n",
      "Line 4 wins 40 credits with 🍉 symbol!\n",
      "\n",
      "total win:  40 credits\n",
      "balance:  135\n",
      "\n"
     ]
    },
    {
     "data": {
      "text/plain": [
       "(40, 1, 0, 0, 0, 0, 0, 9, 0, 0, 40, 7, 0, 0)"
      ]
     },
     "execution_count": 16,
     "metadata": {},
     "output_type": "execute_result"
    }
   ],
   "source": [
    "start_game(display=True, reels=reels, reels_fs=reels_fs, purse=purse, wager=1)"
   ]
  },
  {
   "cell_type": "markdown",
   "id": "7381bebf",
   "metadata": {},
   "source": [
    "Игра работает корректно, теперь для настройки баланса игры напишем функцию-тест:"
   ]
  },
  {
   "cell_type": "code",
   "execution_count": 367,
   "id": "103494b8",
   "metadata": {
    "scrolled": false
   },
   "outputs": [],
   "source": [
    "def test_balance(iterations, returns=False, bootstrap=False):\n",
    "    total_win_final_count = 0\n",
    "    fs_total_win_count = 0\n",
    "    fs_counts = 0\n",
    "    wager_count = 0\n",
    "    symbol_wins = []\n",
    "    symbol_stat = []\n",
    "\n",
    "\n",
    "    for i in range(iterations):\n",
    "        total_win_final, wager, fs_total_win, fs_count, line_1_win, \\\n",
    "        symbol_l1, line_2_win, symbol_l2, line_3_win, symbol_l3, line_4_win,\\\n",
    "        symbol_l4, line_5_win, symbol_l5 = start_game(display=False, reels=reels, reels_fs=reels_fs, purse=purse, wager=1)\n",
    "        symbol_wins.append([line_1_win, symbol_l1, line_2_win, symbol_l2, line_3_win, \\\n",
    "                         symbol_l3, line_4_win, symbol_l4, line_5_win, symbol_l5])\n",
    "        if line_1_win != 0:\n",
    "            symbol_stat.append([symbol_l1, line_1_win])\n",
    "        if line_2_win != 0:\n",
    "            symbol_stat.append([symbol_l2, line_2_win])\n",
    "        if line_3_win != 0:\n",
    "            symbol_stat.append([symbol_l3, line_3_win])\n",
    "        if line_4_win != 0:\n",
    "            symbol_stat.append([symbol_l4, line_4_win])\n",
    "        if line_5_win != 0:\n",
    "            symbol_stat.append([symbol_l5, line_5_win])\n",
    "     \n",
    "        total_win_final_count += total_win_final\n",
    "        fs_total_win_count += fs_total_win\n",
    "        wager_count += 5 * wager \n",
    "        fs_counts += fs_count\n",
    "        total_payout = total_win_final_count * 100 / wager_count\n",
    "        fs_payout = fs_total_win_count * 100 / wager_count\n",
    "        fs_ratio = fs_counts / iterations\n",
    "        \n",
    "        \n",
    "        \n",
    "        \n",
    "    symbol_stat_df = pd.DataFrame(symbol_stat, columns=['symbol', 'win'])\n",
    "    symbol_stat = (symbol_stat_df.groupby(['symbol'])['win'].sum() * 100 / wager_count).values\n",
    "    \n",
    "    if bootstrap == False:\n",
    "        print('total_win: ', total_win_final_count, 'total_wager: ', wager_count,\n",
    "              'total_win_fs: ', fs_total_win_count, 'fs_counts: ', fs_counts)\n",
    "        print('---')\n",
    "        print('total_payout: ', total_payout, '%',\n",
    "              'fs_payout: ', fs_payout, '%')\n",
    "        print('fs_ratio: ', fs_ratio)\n",
    "        print('---')\n",
    "        print('symbol payouts (without free spins) in percents')\n",
    "        print((symbol_stat_df.groupby(['symbol'])['win'].sum() * 100 / wager_count))\n",
    "        \n",
    "    if returns == True:\n",
    "        # вывод для бутстрепа\n",
    "        return total_payout, fs_payout, fs_ratio, symbol_stat  "
   ]
  },
  {
   "cell_type": "code",
   "execution_count": 368,
   "id": "6c1d70c9",
   "metadata": {},
   "outputs": [
    {
     "name": "stdout",
     "output_type": "stream",
     "text": [
      "total_win:  3415 total_wager:  5000 total_win_fs:  1045 fs_counts:  13\n",
      "---\n",
      "total_payout:  68.3 % fs_payout:  20.9 %\n",
      "fs_ratio:  0.013\n",
      "---\n",
      "symbol payouts (without free spins) in percents\n",
      "symbol\n",
      "1    8.4\n",
      "2    3.9\n",
      "3    2.8\n",
      "4    6.5\n",
      "5    4.2\n",
      "6    6.3\n",
      "7    7.2\n",
      "8    8.1\n",
      "Name: win, dtype: float64\n"
     ]
    }
   ],
   "source": [
    "test_balance(1000)"
   ]
  },
  {
   "cell_type": "markdown",
   "id": "97f26f3f",
   "metadata": {},
   "source": [
    "Функция теста работает корректно. Приступим к настройке баланса игры."
   ]
  },
  {
   "cell_type": "markdown",
   "id": "5702fbbf",
   "metadata": {},
   "source": [
    "## Подбор лент для барабанов и получение необходимого payout"
   ]
  },
  {
   "cell_type": "markdown",
   "id": "3bb8857f",
   "metadata": {},
   "source": [
    "Для подбора входных параметров будем производить бутстреп."
   ]
  },
  {
   "cell_type": "markdown",
   "id": "f6a3c303",
   "metadata": {},
   "source": [
    "Так как в задании ничего не сказано о расположении символов на барабане (напр. нахождение нескольких символов подряд на ленте), зададим количество каждого в ленте и будем перемешивать их с помощью библиотеки `random`."
   ]
  },
  {
   "cell_type": "markdown",
   "id": "a40c4413",
   "metadata": {},
   "source": [
    "Задаем начальные (неперемешанные) ленты, исходя из условия, что число символов на ленте должно быть до 200, а символов у нас 10 - возьмем максимальное число символов и распределим их равномерно:"
   ]
  },
  {
   "cell_type": "code",
   "execution_count": 19,
   "id": "eae5fe83",
   "metadata": {},
   "outputs": [],
   "source": [
    "reel_X = 20 * [0] + 20 * [1] + 20 * [2] + 20 * [3] + 20 * [4] + 20 * [5] + 20 * [6] + 20 * [7] + 20 * [8] + 20 * [9]"
   ]
  },
  {
   "cell_type": "code",
   "execution_count": 20,
   "id": "2088b199",
   "metadata": {},
   "outputs": [
    {
     "data": {
      "text/plain": [
       "200"
      ]
     },
     "execution_count": 20,
     "metadata": {},
     "output_type": "execute_result"
    }
   ],
   "source": [
    "len(reel_X)"
   ]
  },
  {
   "cell_type": "code",
   "execution_count": 21,
   "id": "eca8a2c0",
   "metadata": {},
   "outputs": [],
   "source": [
    "reel_Y = 20 * [0] + 20 * [1] + 20 * [2] + 20 * [3] + 20 * [4] + 20 * [5] + 20 * [6] + 20 * [7] + 20 * [8] + 20 * [9]"
   ]
  },
  {
   "cell_type": "code",
   "execution_count": 22,
   "id": "834764a2",
   "metadata": {},
   "outputs": [
    {
     "data": {
      "text/plain": [
       "200"
      ]
     },
     "execution_count": 22,
     "metadata": {},
     "output_type": "execute_result"
    }
   ],
   "source": [
    "len(reel_Y)"
   ]
  },
  {
   "cell_type": "code",
   "execution_count": 23,
   "id": "a722be5b",
   "metadata": {},
   "outputs": [],
   "source": [
    "reel_Z = 20 * [0] + 20 * [1] + 20 * [2] + 20 * [3] + 20 * [4] + 20 * [5] + 20 * [6] + 20 * [7] + 20 * [8] + 20 * [9]"
   ]
  },
  {
   "cell_type": "code",
   "execution_count": 24,
   "id": "67984982",
   "metadata": {},
   "outputs": [
    {
     "data": {
      "text/plain": [
       "200"
      ]
     },
     "execution_count": 24,
     "metadata": {},
     "output_type": "execute_result"
    }
   ],
   "source": [
    "len(reel_Z)"
   ]
  },
  {
   "cell_type": "markdown",
   "id": "cd2adc73",
   "metadata": {},
   "source": [
    "И фри-спиновые ленты (по 22 символа):"
   ]
  },
  {
   "cell_type": "code",
   "execution_count": 25,
   "id": "8bbee13c",
   "metadata": {},
   "outputs": [],
   "source": [
    "reel_X_fs = 22 * [0] + 22 * [1] + 22 * [2] + 22 * [3] + 22 * [4] + 22 * [5] + 22 * [6] + 22 * [7] + 22 * [8]"
   ]
  },
  {
   "cell_type": "code",
   "execution_count": 26,
   "id": "bd52441b",
   "metadata": {},
   "outputs": [
    {
     "data": {
      "text/plain": [
       "198"
      ]
     },
     "execution_count": 26,
     "metadata": {},
     "output_type": "execute_result"
    }
   ],
   "source": [
    "len(reel_X_fs)"
   ]
  },
  {
   "cell_type": "code",
   "execution_count": 27,
   "id": "10cbe1cd",
   "metadata": {},
   "outputs": [],
   "source": [
    "reel_Y_fs = 22 * [0] + 22 * [1] + 22 * [2] + 22 * [3] + 22 * [4] + 22 * [5] + 22 * [6] + 22 * [7] + 22 * [8]"
   ]
  },
  {
   "cell_type": "code",
   "execution_count": 28,
   "id": "66feb409",
   "metadata": {},
   "outputs": [
    {
     "data": {
      "text/plain": [
       "198"
      ]
     },
     "execution_count": 28,
     "metadata": {},
     "output_type": "execute_result"
    }
   ],
   "source": [
    "len(reel_Y_fs)"
   ]
  },
  {
   "cell_type": "code",
   "execution_count": 29,
   "id": "28f37941",
   "metadata": {},
   "outputs": [],
   "source": [
    "reel_Z_fs = 22 * [0] + 22 * [1] + 22 * [2] + 22 * [3] + 22 * [4] + 22 * [5] + 22 * [6] + 22 * [7] + 22 * [8]"
   ]
  },
  {
   "cell_type": "code",
   "execution_count": 30,
   "id": "70ccd283",
   "metadata": {},
   "outputs": [
    {
     "data": {
      "text/plain": [
       "198"
      ]
     },
     "execution_count": 30,
     "metadata": {},
     "output_type": "execute_result"
    }
   ],
   "source": [
    "len(reel_Z_fs)"
   ]
  },
  {
   "cell_type": "markdown",
   "id": "014d8726",
   "metadata": {},
   "source": [
    "Перемешаем элементы в лентах:"
   ]
  },
  {
   "cell_type": "code",
   "execution_count": 31,
   "id": "2d1f9d78",
   "metadata": {},
   "outputs": [],
   "source": [
    "reel_X_shuffled = random.sample(reel_X, k=len(reel_X))"
   ]
  },
  {
   "cell_type": "code",
   "execution_count": 32,
   "id": "470530c2",
   "metadata": {},
   "outputs": [],
   "source": [
    "reel_Y_shuffled = random.sample(reel_Y, k=len(reel_Y))"
   ]
  },
  {
   "cell_type": "code",
   "execution_count": 33,
   "id": "c229702f",
   "metadata": {},
   "outputs": [],
   "source": [
    "reel_Z_shuffled = random.sample(reel_Z, k=len(reel_Z))"
   ]
  },
  {
   "cell_type": "code",
   "execution_count": 34,
   "id": "3d88792e",
   "metadata": {},
   "outputs": [],
   "source": [
    "reel_X_fs_shuffled = random.sample(reel_X_fs, k=len(reel_X_fs))"
   ]
  },
  {
   "cell_type": "code",
   "execution_count": 35,
   "id": "a247bea4",
   "metadata": {},
   "outputs": [],
   "source": [
    "reel_Y_fs_shuffled = random.sample(reel_Y_fs, k=len(reel_Y_fs))"
   ]
  },
  {
   "cell_type": "code",
   "execution_count": 36,
   "id": "709bde8d",
   "metadata": {},
   "outputs": [],
   "source": [
    "reel_Z_fs_shuffled = random.sample(reel_Z_fs, k=len(reel_Z_fs))"
   ]
  },
  {
   "cell_type": "markdown",
   "id": "8ff8d0bb",
   "metadata": {},
   "source": [
    "Объединим ленты:"
   ]
  },
  {
   "cell_type": "code",
   "execution_count": 37,
   "id": "e1690b09",
   "metadata": {},
   "outputs": [],
   "source": [
    "reels = [reel_X_shuffled, reel_Y_shuffled, reel_Z_shuffled]"
   ]
  },
  {
   "cell_type": "code",
   "execution_count": 240,
   "id": "7bcb35c5",
   "metadata": {},
   "outputs": [],
   "source": [
    "reels_fs = [reel_X_fs_shuffled, reel_Y_fs_shuffled, reel_Z_fs_shuffled]"
   ]
  },
  {
   "cell_type": "markdown",
   "id": "da39e22d",
   "metadata": {},
   "source": [
    "Напишем функцию для бутстрепа:"
   ]
  },
  {
   "cell_type": "code",
   "execution_count": 383,
   "id": "b638e131",
   "metadata": {},
   "outputs": [],
   "source": [
    "def bootstrap(samples, iterations):\n",
    "    values = []\n",
    "    symbol_values = []\n",
    "    # tqdm для прогресс-бара\n",
    "    for _ in tqdm(range(samples)):\n",
    "        total_payout, fs_payout, fs_ratio, symbol_stat = test_balance(iterations, returns=True, bootstrap=True)\n",
    "        \n",
    "        values.append([total_payout, fs_payout, fs_ratio])\n",
    "        symbol_values.append(symbol_stat)\n",
    "            \n",
    "    values = pd.DataFrame(values, columns=['total_payout', 'fs_payout', 'fs_ratio'])\n",
    "    symbol_values = pd.DataFrame(symbol_values, columns=['symbol_0_payout', 'symbol_1_payout',\n",
    "                                                         'symbol_2_payout', 'symbol_3_payout',\n",
    "                                                         'symbol_4_payout', 'symbol_5_payout',\n",
    "                                                         'symbol_6_payout', 'symbol_7_payout',\n",
    "                                                         'symbol_8_payout'])\n",
    "    mean = values.sum() / samples\n",
    "    symbol_mean = symbol_values.sum() / samples\n",
    "    print('general params')\n",
    "    print(mean)\n",
    "    print('symbol params')\n",
    "    print(symbol_mean)"
   ]
  },
  {
   "cell_type": "markdown",
   "id": "06158a55",
   "metadata": {},
   "source": [
    "Запустим бутстреп (1000 раз для 1000 игр):"
   ]
  },
  {
   "cell_type": "code",
   "execution_count": 384,
   "id": "9f015ae4",
   "metadata": {},
   "outputs": [
    {
     "name": "stderr",
     "output_type": "stream",
     "text": [
      "100%|█████████████████████████████████████████████████████████████████████████████| 1000/1000 [00:09<00:00, 109.88it/s]\n"
     ]
    },
    {
     "name": "stdout",
     "output_type": "stream",
     "text": [
      "general params\n",
      "total_payout    91.524200\n",
      "fs_payout       34.142100\n",
      "fs_ratio         0.015192\n",
      "dtype: float64\n",
      "symbol params\n",
      "symbol_0_payout     7.0582\n",
      "symbol_1_payout     4.1662\n",
      "symbol_2_payout     4.4862\n",
      "symbol_3_payout     5.6180\n",
      "symbol_4_payout     6.9442\n",
      "symbol_5_payout     8.0850\n",
      "symbol_6_payout     9.0278\n",
      "symbol_7_payout    10.4143\n",
      "symbol_8_payout     1.5822\n",
      "dtype: float64\n"
     ]
    }
   ],
   "source": [
    "symbol_values = bootstrap(1000, 1000)"
   ]
  },
  {
   "cell_type": "markdown",
   "id": "801ef972",
   "metadata": {},
   "source": [
    "Выведем словарь с выплатами:"
   ]
  },
  {
   "cell_type": "code",
   "execution_count": 50,
   "id": "3cbaefeb",
   "metadata": {},
   "outputs": [
    {
     "data": {
      "text/plain": [
       "{0: 100, 1: 10, 2: 15, 3: 20, 4: 25, 5: 30, 6: 35, 7: 40, 8: 45}"
      ]
     },
     "execution_count": 50,
     "metadata": {},
     "output_type": "execute_result"
    }
   ],
   "source": [
    "pay_dict"
   ]
  },
  {
   "cell_type": "markdown",
   "id": "5c5b7b8a",
   "metadata": {},
   "source": [
    "Очевидно, что необходимо снизить число символов **Wild**, а так же немного снизить пейаут фри-спиновой игры. Из открытого источника: пейаут фриспиновой игры должен составлять 30-40% от общего пейаута [ссылка] URL: https://www.youtube.com/watch?v=Or5fOyMLju0&t=1001s"
   ]
  },
  {
   "cell_type": "markdown",
   "id": "058e3fa1",
   "metadata": {},
   "source": [
    "Изменим число символов на лентах:\n",
    "- число символов **Wild** снизим до 10, 12 и 8 на каждой ленте соответственно;\n",
    "- число первых обычных символов увеличим до 33, 32 и 34 соответственно;\n",
    "- число символов **Free Spins** снизим до 19, 18 и 17 соответственно."
   ]
  },
  {
   "cell_type": "code",
   "execution_count": 158,
   "id": "943f954a",
   "metadata": {},
   "outputs": [],
   "source": [
    "reel_X = 10 * [0] + 33 * [1] + 20 * [2] + 20 * [3] + 20 * [4] + 20 * [5] + 20 * [6] + 20 * [7] + 20 * [8] + 19 * [9]"
   ]
  },
  {
   "cell_type": "code",
   "execution_count": 159,
   "id": "535bcc8f",
   "metadata": {},
   "outputs": [
    {
     "data": {
      "text/plain": [
       "202"
      ]
     },
     "execution_count": 159,
     "metadata": {},
     "output_type": "execute_result"
    }
   ],
   "source": [
    "len(reel_X)"
   ]
  },
  {
   "cell_type": "code",
   "execution_count": 160,
   "id": "4e3ad1b0",
   "metadata": {},
   "outputs": [],
   "source": [
    "reel_Y = 12 * [0] + 32 * [1] + 20 * [2] + 20 * [3] + 20 * [4] + 20 * [5] + 20 * [6] + 20 * [7] + 20 * [8] + 18 * [9]"
   ]
  },
  {
   "cell_type": "code",
   "execution_count": 161,
   "id": "517fd42d",
   "metadata": {},
   "outputs": [
    {
     "data": {
      "text/plain": [
       "202"
      ]
     },
     "execution_count": 161,
     "metadata": {},
     "output_type": "execute_result"
    }
   ],
   "source": [
    "len(reel_Y)"
   ]
  },
  {
   "cell_type": "code",
   "execution_count": 162,
   "id": "c6ac24a0",
   "metadata": {},
   "outputs": [],
   "source": [
    "reel_Z = 8 * [0] + 34 * [1] + 20 * [2] + 20 * [3] + 20 * [4] + 20 * [5] + 20 * [6] + 20 * [7] + 20 * [8] + 17 * [9]"
   ]
  },
  {
   "cell_type": "code",
   "execution_count": 163,
   "id": "5f8f400c",
   "metadata": {},
   "outputs": [
    {
     "data": {
      "text/plain": [
       "199"
      ]
     },
     "execution_count": 163,
     "metadata": {},
     "output_type": "execute_result"
    }
   ],
   "source": [
    "len(reel_Z)"
   ]
  },
  {
   "cell_type": "code",
   "execution_count": 164,
   "id": "15958e16",
   "metadata": {},
   "outputs": [
    {
     "data": {
      "text/plain": [
       "198"
      ]
     },
     "execution_count": 164,
     "metadata": {},
     "output_type": "execute_result"
    }
   ],
   "source": [
    "len(reel_Z_fs)"
   ]
  },
  {
   "cell_type": "markdown",
   "id": "96eccbea",
   "metadata": {},
   "source": [
    "Перемешаем элементы в лентах:"
   ]
  },
  {
   "cell_type": "code",
   "execution_count": 165,
   "id": "77f222da",
   "metadata": {},
   "outputs": [],
   "source": [
    "reel_X_shuffled = random.sample(reel_X, k=len(reel_X))"
   ]
  },
  {
   "cell_type": "code",
   "execution_count": 166,
   "id": "f5573528",
   "metadata": {},
   "outputs": [],
   "source": [
    "reel_Y_shuffled = random.sample(reel_Y, k=len(reel_Y))"
   ]
  },
  {
   "cell_type": "code",
   "execution_count": 167,
   "id": "356f9ef9",
   "metadata": {},
   "outputs": [],
   "source": [
    "reel_Z_shuffled = random.sample(reel_Z, k=len(reel_Z))"
   ]
  },
  {
   "cell_type": "markdown",
   "id": "f6c007c4",
   "metadata": {},
   "source": [
    "Объединим ленты:"
   ]
  },
  {
   "cell_type": "code",
   "execution_count": 239,
   "id": "de431a8e",
   "metadata": {},
   "outputs": [],
   "source": [
    "reels = [reel_X_shuffled, reel_Y_shuffled, reel_Z_shuffled]"
   ]
  },
  {
   "cell_type": "markdown",
   "id": "0460a6f8",
   "metadata": {},
   "source": [
    "Запустим бутстреп:"
   ]
  },
  {
   "cell_type": "code",
   "execution_count": 169,
   "id": "f5edea69",
   "metadata": {},
   "outputs": [
    {
     "name": "stderr",
     "output_type": "stream",
     "text": [
      "100%|█████████████████████████████████████████████████████████████████████████████| 1000/1000 [00:09<00:00, 109.77it/s]"
     ]
    },
    {
     "name": "stdout",
     "output_type": "stream",
     "text": [
      "general params\n",
      "total_payout    112.868600\n",
      "fs_payout        35.110200\n",
      "fs_ratio          0.015707\n",
      "dtype: float64\n",
      "symbol params\n",
      "symbol_0_payout     6.667200\n",
      "symbol_1_payout     6.882100\n",
      "symbol_2_payout     5.747700\n",
      "symbol_3_payout     7.315100\n",
      "symbol_4_payout     8.863000\n",
      "symbol_5_payout    10.374000\n",
      "symbol_6_payout    12.200500\n",
      "symbol_7_payout    13.508700\n",
      "symbol_8_payout    14.622877\n",
      "dtype: float64\n"
     ]
    },
    {
     "name": "stderr",
     "output_type": "stream",
     "text": [
      "\n"
     ]
    }
   ],
   "source": [
    "bootstrap(1000, 1000)"
   ]
  },
  {
   "cell_type": "markdown",
   "id": "26a03379",
   "metadata": {},
   "source": [
    "Еще снизим число символов **Wild** до 6, 7 и 6 соответственно:"
   ]
  },
  {
   "cell_type": "code",
   "execution_count": 182,
   "id": "319d93ed",
   "metadata": {},
   "outputs": [],
   "source": [
    "reel_X = 6 * [0] + 33 * [1] + 20 * [2] + 20 * [3] + 20 * [4] + 20 * [5] + 20 * [6] + 20 * [7] + 20 * [8] + 19 * [9]"
   ]
  },
  {
   "cell_type": "code",
   "execution_count": 183,
   "id": "5c9e0f01",
   "metadata": {},
   "outputs": [
    {
     "data": {
      "text/plain": [
       "198"
      ]
     },
     "execution_count": 183,
     "metadata": {},
     "output_type": "execute_result"
    }
   ],
   "source": [
    "len(reel_X)"
   ]
  },
  {
   "cell_type": "code",
   "execution_count": 184,
   "id": "dfbfdc52",
   "metadata": {},
   "outputs": [],
   "source": [
    "reel_Y = 7 * [0] + 32 * [1] + 20 * [2] + 20 * [3] + 20 * [4] + 20 * [5] + 20 * [6] + 20 * [7] + 20 * [8] + 18 * [9]"
   ]
  },
  {
   "cell_type": "code",
   "execution_count": 185,
   "id": "965921c7",
   "metadata": {},
   "outputs": [
    {
     "data": {
      "text/plain": [
       "197"
      ]
     },
     "execution_count": 185,
     "metadata": {},
     "output_type": "execute_result"
    }
   ],
   "source": [
    "len(reel_Y)"
   ]
  },
  {
   "cell_type": "code",
   "execution_count": 186,
   "id": "34a064d2",
   "metadata": {},
   "outputs": [],
   "source": [
    "reel_Z = 6 * [0] + 34 * [1] + 20 * [2] + 20 * [3] + 20 * [4] + 20 * [5] + 20 * [6] + 20 * [7] + 20 * [8] + 17 * [9]"
   ]
  },
  {
   "cell_type": "code",
   "execution_count": 187,
   "id": "d7f3a459",
   "metadata": {},
   "outputs": [
    {
     "data": {
      "text/plain": [
       "197"
      ]
     },
     "execution_count": 187,
     "metadata": {},
     "output_type": "execute_result"
    }
   ],
   "source": [
    "len(reel_Z)"
   ]
  },
  {
   "cell_type": "code",
   "execution_count": 188,
   "id": "8d589bf6",
   "metadata": {},
   "outputs": [
    {
     "data": {
      "text/plain": [
       "198"
      ]
     },
     "execution_count": 188,
     "metadata": {},
     "output_type": "execute_result"
    }
   ],
   "source": [
    "len(reel_Z_fs)"
   ]
  },
  {
   "cell_type": "markdown",
   "id": "c782d632",
   "metadata": {},
   "source": [
    "Перемешаем элементы в лентах:"
   ]
  },
  {
   "cell_type": "code",
   "execution_count": 200,
   "id": "5d7bcbf1",
   "metadata": {},
   "outputs": [],
   "source": [
    "reel_X_shuffled = random.sample(reel_X, k=len(reel_X))"
   ]
  },
  {
   "cell_type": "code",
   "execution_count": 201,
   "id": "236310b0",
   "metadata": {},
   "outputs": [],
   "source": [
    "reel_Y_shuffled = random.sample(reel_Y, k=len(reel_Y))"
   ]
  },
  {
   "cell_type": "code",
   "execution_count": 202,
   "id": "d9e182d6",
   "metadata": {},
   "outputs": [],
   "source": [
    "reel_Z_shuffled = random.sample(reel_Z, k=len(reel_Z))"
   ]
  },
  {
   "cell_type": "markdown",
   "id": "5b0943c0",
   "metadata": {},
   "source": [
    "Объединим ленты:"
   ]
  },
  {
   "cell_type": "code",
   "execution_count": 203,
   "id": "0744715b",
   "metadata": {},
   "outputs": [],
   "source": [
    "reels = [reel_X_shuffled, reel_Y_shuffled, reel_Z_shuffled]"
   ]
  },
  {
   "cell_type": "markdown",
   "id": "279e6cf7",
   "metadata": {},
   "source": [
    "Запустим более тяжелый бутстреп (10000 раз по 10000 игр): "
   ]
  },
  {
   "cell_type": "code",
   "execution_count": 386,
   "id": "025f165a",
   "metadata": {},
   "outputs": [
    {
     "name": "stderr",
     "output_type": "stream",
     "text": [
      "100%|████████████████████████████████████████████████████████████████████████████| 10000/10000 [14:15<00:00, 11.69it/s]\n"
     ]
    },
    {
     "name": "stdout",
     "output_type": "stream",
     "text": [
      "general params\n",
      "total_payout    91.397264\n",
      "fs_payout       34.062283\n",
      "fs_ratio         0.015184\n",
      "dtype: float64\n",
      "symbol params\n",
      "symbol_0_payout    1.926658\n",
      "symbol_1_payout    6.990393\n",
      "symbol_2_payout    3.752968\n",
      "symbol_3_payout    4.926095\n",
      "symbol_4_payout    6.083742\n",
      "symbol_5_payout    7.252033\n",
      "symbol_6_payout    8.409508\n",
      "symbol_7_payout    9.595252\n",
      "symbol_8_payout    8.398332\n",
      "dtype: float64\n"
     ]
    }
   ],
   "source": [
    "bootstrap(10000, 10000)"
   ]
  },
  {
   "cell_type": "markdown",
   "id": "715ead98",
   "metadata": {},
   "source": [
    "Отлично, в нужный **payout** мы попали и его доля пейатуа от фри-спиновых игр тоже хорошая. Характеристики слот-машины подтверждены. Задачу можно считать решенной."
   ]
  },
  {
   "cell_type": "markdown",
   "id": "6c02a3a2",
   "metadata": {},
   "source": [
    "Запишем ленты в датафреймы:"
   ]
  },
  {
   "cell_type": "code",
   "execution_count": 216,
   "id": "c58c4827",
   "metadata": {},
   "outputs": [],
   "source": [
    "reels_df = pd.DataFrame(list(map(list, zip(*reels))), columns=['reel_X', 'reel_Y', 'reel_Z'])\n",
    "reels_fs_df = pd.DataFrame(list(map(list, zip(*reels_fs))), columns=['reel_X_fs', 'reel_Y_fs', 'reel_Z_fs'])"
   ]
  },
  {
   "cell_type": "markdown",
   "id": "643df029",
   "metadata": {},
   "source": [
    "Сохраним ленты на диск:"
   ]
  },
  {
   "cell_type": "code",
   "execution_count": 230,
   "id": "81dbde78",
   "metadata": {},
   "outputs": [],
   "source": [
    "reels_df.to_excel('D:/reels_df.xlsx')\n",
    "reels_fs_df.to_excel('D:/reels_fs_df.xlsx')"
   ]
  },
  {
   "cell_type": "markdown",
   "id": "023526d5",
   "metadata": {},
   "source": [
    "## Ответы на поставленные вопросы"
   ]
  },
  {
   "cell_type": "markdown",
   "id": "b651e0b4",
   "metadata": {},
   "source": [
    "- При решении задачи использовались три сплошные линии и две диагональные линии (см. рис. 1);\n",
    "- Ленты (барабаны) слота представлены в приложеном к тетрадке файле `Excel`;\n",
    "- Таблица выплат и payout каждой комбинации\n",
    "\n",
    "|Символ |Выплата, credits|Payout, %|\n",
    "|-------|-------|------|\n",
    "| ⭐ (**Wild**)|100| 1.93\n",
    "|🍒 (**High 8**)| 10| 6.99\n",
    "|🍇(**High 7**)| 15| 3.75\n",
    "|🍌(**High 6**)|20| 4.93\n",
    "|🍏(**High 5**)|25| 6.08\n",
    "|🍆(**High 4**)|30| 7.25\n",
    "|🍍(**High 3**)|35| 8.41\n",
    "|🍉(**High 2**)|40| 9.59\n",
    "|🍓(**High 1**)|45| 8.39\n",
    "|🎫(**Free Spins 1**)|-|34.06\n",
    "\n",
    "При этом общий пейаут (**total payout**) : 91.40 %, доля **Free Spins** : 0.015"
   ]
  }
 ],
 "metadata": {
  "kernelspec": {
   "display_name": "Python 3 (ipykernel)",
   "language": "python",
   "name": "python3"
  },
  "language_info": {
   "codemirror_mode": {
    "name": "ipython",
    "version": 3
   },
   "file_extension": ".py",
   "mimetype": "text/x-python",
   "name": "python",
   "nbconvert_exporter": "python",
   "pygments_lexer": "ipython3",
   "version": "3.9.7"
  }
 },
 "nbformat": 4,
 "nbformat_minor": 5
}
